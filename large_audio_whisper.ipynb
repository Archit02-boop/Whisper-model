{
 "cells": [
  {
   "cell_type": "code",
   "execution_count": null,
   "id": "c4b1adcb",
   "metadata": {},
   "outputs": [
    {
     "name": "stderr",
     "output_type": "stream",
     "text": [
      "c:\\Users\\Archit Ranjan\\AppData\\Local\\Programs\\Python\\Python311\\Lib\\site-packages\\whisper\\transcribe.py:126: UserWarning: FP16 is not supported on CPU; using FP32 instead\n",
      "  warnings.warn(\"FP16 is not supported on CPU; using FP32 instead\")\n"
     ]
    }
   ],
   "source": [
    "from pydub import AudioSegment\n",
    "from pydub.utils import make_chunks\n",
    "import whisper\n",
    "import os\n",
    "\n",
    "# Load Whisper model\n",
    "model = whisper.load_model(\"medium\")\n",
    "\n",
    "# Load your large audio file\n",
    "audio = AudioSegment.from_mp3(\"adventureholmes_01_doyle.mp3\")\n",
    "# Split the audio into chunks\n",
    "chunk_length_ms = 120_000 # 2 minutes\n",
    "chunks = make_chunks(audio, chunk_length_ms)\n",
    "\n",
    "full_transcript = \"\"\n",
    "\n",
    "for i, chunk in enumerate(chunks):\n",
    "    chunk_name = f\"chunk_{i}.wav\"\n",
    "    chunk.export(chunk_name, format=\"wav\")\n",
    "    result = model.transcribe(chunk_name)\n",
    "    full_transcript += result[\"text\"] + \" \"\n",
    "    os.remove(chunk_name)  # Clean up\n",
    "# Save the combined transcript\n",
    "with open(\"full_transcription.txt\", \"w\", encoding=\"utf-8\") as f:\n",
    "    f.write(full_transcript.strip())\n"
   ]
  }
 ],
 "metadata": {
  "kernelspec": {
   "display_name": "Python 3",
   "language": "python",
   "name": "python3"
  },
  "language_info": {
   "codemirror_mode": {
    "name": "ipython",
    "version": 3
   },
   "file_extension": ".py",
   "mimetype": "text/x-python",
   "name": "python",
   "nbconvert_exporter": "python",
   "pygments_lexer": "ipython3",
   "version": "3.11.9"
  }
 },
 "nbformat": 4,
 "nbformat_minor": 5
}

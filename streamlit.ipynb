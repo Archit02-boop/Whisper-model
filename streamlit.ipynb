{
 "cells": [
  {
   "cell_type": "code",
   "execution_count": null,
   "id": "bb27194d",
   "metadata": {},
   "outputs": [],
   "source": [
    "import streamlit as st\n",
    "import whisper\n",
    "import tempfile\n",
    "import os\n",
    "\n",
    "st.title(\"Whisper Audio Transcription Demo\")\n",
    "\n",
    "# File uploader\n",
    "audio_file = st.file_uploader(\"Upload an audio file (mp3, wav, m4a, etc.)\", type=[\"mp3\", \"wav\", \"m4a\"])\n",
    "\n",
    "if audio_file is not None:\n",
    "    # Save uploaded file to a temporary location\n",
    "    with tempfile.NamedTemporaryFile(delete=False, suffix=os.path.splitext(audio_file.name)[1]) as tmp_file:\n",
    "        tmp_file.write(audio_file.read())\n",
    "        tmp_path = tmp_file.name\n",
    "\n",
    "    st.audio(tmp_path)  # Optionally, play the audio in the app\n",
    "\n",
    "    st.write(\"Transcribing... (this may take a while)\")\n",
    "    model = whisper.load_model(\"base\")  # or \"small\", \"medium\", \"large\"\n",
    "    result = model.transcribe(tmp_path)\n",
    "    st.subheader(\"Transcription\")\n",
    "    st.write(result[\"text\"])\n",
    "\n",
    "    # Optionally, provide a download button for the transcript\n",
    "    st.download_button(\"Download Transcript\", result[\"text\"], file_name=\"transcript.txt\")\n",
    "\n",
    "    # Clean up temp file\n",
    "    os.remove(tmp_path)\n"
   ]
  }
 ],
 "metadata": {
  "kernelspec": {
   "display_name": "Python 3",
   "language": "python",
   "name": "python3"
  },
  "language_info": {
   "codemirror_mode": {
    "name": "ipython",
    "version": 3
   },
   "file_extension": ".py",
   "mimetype": "text/x-python",
   "name": "python",
   "nbconvert_exporter": "python",
   "pygments_lexer": "ipython3",
   "version": "3.11.9"
  }
 },
 "nbformat": 4,
 "nbformat_minor": 5
}
